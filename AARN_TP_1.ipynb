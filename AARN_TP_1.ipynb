{
  "cells": [
    {
      "cell_type": "markdown",
      "metadata": {
        "id": "view-in-github",
        "colab_type": "text"
      },
      "source": [
        "<a href=\"https://colab.research.google.com/github/bokhtachekhawla/aarn-tp-1/blob/main/AARN_TP_1.ipynb\" target=\"_parent\"><img src=\"https://colab.research.google.com/assets/colab-badge.svg\" alt=\"Open In Colab\"/></a>"
      ]
    },
    {
      "cell_type": "markdown",
      "metadata": {
        "id": "23HhZ0TZl0zP"
      },
      "source": [
        "# TP 1 Mesures de performance\n",
        "Dans ce TP, nous aimerions avoir un premier aperçu sur les algorithmes d'apprentissage automatique. Plus précisément, nous aimerions évaluer leurs performances en utilisant les métriques suivantes:\n",
        "- Matrice de confusion\n",
        "- Rappel\n",
        "- Précision\n",
        "- Taux de FP\n",
        "- Spécificité\n",
        "- Courbe ROC\n",
        "\n",
        "Les mesures devront être calculées sur la tâche de classification des nombres manuscrits.\n",
        "\n",
        "Le travail consiste à implementer ces métriques et à les comparer avec les métriques des librairies disponibles.\n",
        "\n",
        "Les algorithmes : K plus Proches Voisins devront être implementés."
      ]
    },
    {
      "cell_type": "markdown",
      "metadata": {
        "id": "RnUKQQfjl0ze"
      },
      "source": [
        "# Importation des librairies necessaires au travail"
      ]
    },
    {
      "cell_type": "code",
      "execution_count": 1,
      "metadata": {
        "id": "YDZVV6GVl0zg"
      },
      "outputs": [],
      "source": [
        "import numpy as np\n",
        "import pandas as pd\n",
        "import matplotlib.pyplot as plt\n",
        "from numpy import random\n",
        "from sklearn.neural_network import MLPClassifier\n",
        "from sklearn.model_selection import train_test_split\n",
        "from sklearn import svm\n",
        "from sklearn.tree import DecisionTreeClassifier\n",
        "from sklearn.neighbors import KNeighborsClassifier\n",
        "from sklearn.metrics import classification_report, confusion_matrix\n",
        "from sklearn.preprocessing import StandardScaler"
      ]
    },
    {
      "cell_type": "markdown",
      "source": [
        "# Configuration du drive"
      ],
      "metadata": {
        "id": "7G-ubub3ZO0s"
      }
    },
    {
      "cell_type": "code",
      "source": [
        "import gdown\n",
        "\n",
        "file_id = \"1s38onIYiu8uJlIFcqJVW7mBWq-tAPBYi\"  # Remplacer par ton ID réel\n",
        "gdown.download(f\"https://drive.google.com/uc?id={file_id}\", \"TP1.zip\", quiet=False)\n"
      ],
      "metadata": {
        "colab": {
          "base_uri": "https://localhost:8080/",
          "height": 109
        },
        "id": "ITd44ETyZNnd",
        "outputId": "402a47dc-2535-458b-dadb-cb4dfd714a82"
      },
      "execution_count": 2,
      "outputs": [
        {
          "output_type": "stream",
          "name": "stderr",
          "text": [
            "Downloading...\n",
            "From: https://drive.google.com/uc?id=1s38onIYiu8uJlIFcqJVW7mBWq-tAPBYi\n",
            "To: /content/TP1.zip\n",
            "100%|██████████| 1.20M/1.20M [00:00<00:00, 11.9MB/s]\n"
          ]
        },
        {
          "output_type": "execute_result",
          "data": {
            "text/plain": [
              "'TP1.zip'"
            ],
            "application/vnd.google.colaboratory.intrinsic+json": {
              "type": "string"
            }
          },
          "metadata": {},
          "execution_count": 2
        }
      ]
    },
    {
      "cell_type": "markdown",
      "source": [
        "# Verification si le fichier zip existe ou pas"
      ],
      "metadata": {
        "id": "4Z-m2raldZUt"
      }
    },
    {
      "cell_type": "code",
      "source": [
        "!file TP1.zip"
      ],
      "metadata": {
        "colab": {
          "base_uri": "https://localhost:8080/"
        },
        "id": "z2Mq0Kt-ci4k",
        "outputId": "687424e3-127e-42fe-b6b6-1077d74599dd"
      },
      "execution_count": 3,
      "outputs": [
        {
          "output_type": "stream",
          "name": "stdout",
          "text": [
            "TP1.zip: Zip archive data, at least v2.0 to extract, compression method=deflate\n"
          ]
        }
      ]
    },
    {
      "cell_type": "markdown",
      "source": [
        "# Unzip The file"
      ],
      "metadata": {
        "id": "NiO9rvXQdkAG"
      }
    },
    {
      "cell_type": "code",
      "source": [
        "import zipfile\n",
        "\n",
        "# Extraire le ZIP\n",
        "with zipfile.ZipFile(\"/content/TP1.zip\", 'r') as zip_ref:\n",
        "    zip_ref.extractall(\"/content/TP1\")\n",
        "\n",
        "# Afficher le contenu\n",
        "!ls /content/TP1\n"
      ],
      "metadata": {
        "colab": {
          "base_uri": "https://localhost:8080/"
        },
        "id": "-AgdzJQnaJ_C",
        "outputId": "9611a333-60cf-44a1-9823-7120204f8f85"
      },
      "execution_count": 4,
      "outputs": [
        {
          "output_type": "stream",
          "name": "stdout",
          "text": [
            " data.csv   labels.csv\t __MACOSX  'TP 1.ipynb'\n"
          ]
        }
      ]
    },
    {
      "cell_type": "markdown",
      "metadata": {
        "id": "_nT_H3aPl0zm"
      },
      "source": [
        "# Lecture des fichiers de données à classifier\n",
        "Pour ce TP, nous allons lire les données à partir d'un fichier csv."
      ]
    },
    {
      "cell_type": "code",
      "execution_count": 5,
      "metadata": {
        "colab": {
          "base_uri": "https://localhost:8080/"
        },
        "id": "91b0p4qbl0zn",
        "outputId": "3ef0d7d3-d436-4fbc-f708-43ccd8704eba"
      },
      "outputs": [
        {
          "output_type": "stream",
          "name": "stdout",
          "text": [
            "(5000, 400)\n"
          ]
        }
      ],
      "source": [
        "# données\n",
        "X = np.genfromtxt('/content/TP1/data.csv', delimiter=',', dtype=int)\n",
        "print(X.shape)\n",
        "df = pd.read_csv(\"/content/TP1/data.csv\",nrows=5000)"
      ]
    },
    {
      "cell_type": "code",
      "execution_count": 6,
      "metadata": {
        "colab": {
          "base_uri": "https://localhost:8080/"
        },
        "id": "j6KdcfC8l0zq",
        "outputId": "eb399ede-8d4e-41e9-d5b2-99901885aff0"
      },
      "outputs": [
        {
          "output_type": "execute_result",
          "data": {
            "text/plain": [
              "(5000,)"
            ]
          },
          "metadata": {},
          "execution_count": 6
        }
      ],
      "source": [
        "# étiquettes\n",
        "Y = np.genfromtxt('/content/TP1/labels.csv', delimiter=',', dtype=int)\n",
        "Y.shape"
      ]
    },
    {
      "cell_type": "markdown",
      "metadata": {
        "id": "TY2OixHCl0zs"
      },
      "source": [
        "Afficher aléatoirement quelques données de notre base"
      ]
    },
    {
      "cell_type": "code",
      "execution_count": 7,
      "metadata": {
        "colab": {
          "base_uri": "https://localhost:8080/",
          "height": 121
        },
        "id": "QMTnUdBql0zu",
        "outputId": "45cec7dd-506a-4443-b49b-4c4a85b1569c"
      },
      "outputs": [
        {
          "output_type": "display_data",
          "data": {
            "text/plain": [
              "<Figure size 1500x800 with 13 Axes>"
            ],
            "image/png": "[encoded data removed]"
          },
          "metadata": {}
        }
      ],
      "source": [
        "plt.figure(figsize=(15,8))\n",
        "for i in range(13): #note: each 500 lines, there is a new value\n",
        "    c = random.randint(X.shape[0]) #pick a random line from the dataset\n",
        "    a = X[c,:].reshape((20, 20)) #shape of one number in the image\n",
        "    a=np.transpose(a) # la transposé (rendre les ligne des colonne et vice versa)\n",
        "    plt.subplot(1,13,i+1)\n",
        "    plt.title('label '+ str(Y[c]))\n",
        "    plt.imshow(a,cmap='gray')"
      ]
    },
    {
      "cell_type": "markdown",
      "source": [
        "*  Definition de chemin des donnees"
      ],
      "metadata": {
        "id": "3ghgpp0kT79S"
      }
    },
    {
      "cell_type": "code",
      "source": [
        "data = pd.read_csv('/content/TP1/data.csv')\n",
        "labels = pd.read_csv('/content/TP1/labels.csv')"
      ],
      "metadata": {
        "id": "xaFGSo7IT56y"
      },
      "execution_count": 8,
      "outputs": []
    },
    {
      "cell_type": "markdown",
      "source": [
        "*  Entraînement et Prédiction du modele"
      ],
      "metadata": {
        "id": "kF-PezwoUIBI"
      }
    },
    {
      "cell_type": "code",
      "source": [
        "labels = labels.values.ravel()  # Convertit un DataFrame colonne en array 1D\n",
        "\n",
        "X_train, X_test, y_train, y_test = train_test_split(data, labels, test_size=0.3, random_state=42)\n",
        "# Entraînement du modèle\n",
        "model = MLPClassifier(hidden_layer_sizes=(100,), max_iter=1000, random_state=42)\n",
        "model.fit(X_train, y_train)\n",
        "\n",
        "# Prédictions\n",
        "y_pred = model.predict(X_test)\n"
      ],
      "metadata": {
        "id": "2a-IfTDIAh1w"
      },
      "execution_count": 9,
      "outputs": []
    },
    {
      "cell_type": "markdown",
      "metadata": {
        "id": "UM03Af2dl0zv"
      },
      "source": [
        "Notons que l'étiquette 10 concerne le chiffre 0. L'étiquette a été utilisée ainsi afin de faciliter les calculs conséquents."
      ]
    },
    {
      "cell_type": "markdown",
      "metadata": {
        "id": "s80Yb_gul0zx"
      },
      "source": [
        "# Implémentation des métriques demandées\n",
        "Ici il faut écrire les fonctions, puis les appeler dans la suite du code"
      ]
    },
    {
      "cell_type": "markdown",
      "metadata": {
        "id": "F-PMaEuYY5aL"
      },
      "source": [
        "- Matrice de confusion :"
      ]
    },
    {
      "cell_type": "code",
      "execution_count": 10,
      "metadata": {
        "colab": {
          "base_uri": "https://localhost:8080/"
        },
        "id": "f9OgwbBUY5aL",
        "outputId": "7c64bc89-5bbc-4365-8b86-648872babbd4"
      },
      "outputs": [
        {
          "output_type": "stream",
          "name": "stdout",
          "text": [
            "10\n",
            "Matrice de confusion manuelle :\n",
            "[[140   2   1   2   1   0   2   2   0   0]\n",
            " [  0 127   8   1   0   2   8   3   1   6]\n",
            " [  0   3 130   0  11   0   0   5   4   0]\n",
            " [  1   5   0 116   1   3   0   4  12   0]\n",
            " [  0   0   6   3 127   3   2   5   5   2]\n",
            " [  0   3   0   1   2 132   1   0   0   1]\n",
            " [  2   3   1   3   0   0 132   0   8   3]\n",
            " [  0  10   3   1   5   1   0 121   4   1]\n",
            " [  1   1   1   4   1   1  10   0 127   0]\n",
            " [  0   0   6   1   3   2   2   3   5 140]]\n",
            "TP: 1292, TN: 13292, FP: 208, FN: 208\n"
          ]
        }
      ],
      "source": [
        "\n",
        "def confusion_matrix_manual(y_true, y_pred):\n",
        "\n",
        "    # Détecter automatiquement toutes les classes présentes\n",
        "    labels = np.unique(np.concatenate((y_true, y_pred)))\n",
        "\n",
        "    # Initialiser une matrice carrée de taille (n_classes, n_classes)\n",
        "    n_classes = len(labels)\n",
        "    print(n_classes)\n",
        "    cm = np.zeros((n_classes, n_classes), dtype=int)\n",
        "\n",
        "    # Dictionnaire pour mapper chaque label à un indice\n",
        "    label_to_index = {label: i for i, label in enumerate(labels)}\n",
        "\n",
        "    # Remplir la matrice de confusion\n",
        "    for true_label, pred_label in zip(y_true, y_pred):\n",
        "        true_index = label_to_index[true_label]\n",
        "        pred_index = label_to_index[pred_label]\n",
        "        cm[true_index, pred_index] += 1\n",
        "\n",
        "    return cm, labels\n",
        "\n",
        "# Calcul de la matrice de confusion\n",
        "cm, labels = confusion_matrix_manual(y_test, y_pred)\n",
        "\n",
        "# Affichage de la matrice\n",
        "print(\"Matrice de confusion manuelle :\")\n",
        "print(cm)\n",
        "\n",
        "# Calcul des métriques TP, TN, FP, FN\n",
        "FP = cm.sum(axis=0) - np.diag(cm)\n",
        "FN = cm.sum(axis=1) - np.diag(cm)\n",
        "TP = np.diag(cm)\n",
        "TN = cm.sum() - (FP + FN + TP)\n",
        "\n",
        "fp = FP.sum()\n",
        "fn = FN.sum()\n",
        "tp = TP.sum()\n",
        "tn = TN.sum()\n",
        "\n",
        "print(f\"TP: {tp}, TN: {tn}, FP: {fp}, FN: {fn}\")\n",
        "\n"
      ]
    },
    {
      "cell_type": "markdown",
      "metadata": {
        "id": "oBgZAvf8Y5aL"
      },
      "source": [
        "- Accuracy = (TP + TN)/(TP + TN + FP + FN)"
      ]
    },
    {
      "cell_type": "code",
      "execution_count": 11,
      "metadata": {
        "colab": {
          "base_uri": "https://localhost:8080/"
        },
        "id": "mpTvRWNHY5aL",
        "outputId": "69852a07-b61c-4e6d-fbbb-f2281a99bf60"
      },
      "outputs": [
        {
          "output_type": "stream",
          "name": "stdout",
          "text": [
            "Accuracy  : 0.97\n"
          ]
        }
      ],
      "source": [
        "accuracy = (tp + tn) / (tp + tn + fp + fn)\n",
        "print(f\"Accuracy  : {accuracy:.2f}\")"
      ]
    },
    {
      "cell_type": "markdown",
      "metadata": {
        "id": "-mRS4onu-52j"
      },
      "source": [
        "- Recall (True Positive Rate) = TP/(TP + FN)"
      ]
    },
    {
      "cell_type": "code",
      "execution_count": 12,
      "metadata": {
        "colab": {
          "base_uri": "https://localhost:8080/"
        },
        "id": "ReRWcXEYgeQe",
        "outputId": "d4ecc28d-9da2-4443-c244-2f7ae65b401e"
      },
      "outputs": [
        {
          "output_type": "stream",
          "name": "stdout",
          "text": [
            "Rappel : 0.86\n"
          ]
        }
      ],
      "source": [
        "recall  = (tp/(tp+fn))\n",
        "print(f\"Rappel : {recall:.2f}\")"
      ]
    },
    {
      "cell_type": "markdown",
      "metadata": {
        "id": "iy1P5tes-jM8"
      },
      "source": [
        "- Précision = TP/(TP + FP)"
      ]
    },
    {
      "cell_type": "code",
      "execution_count": 13,
      "metadata": {
        "colab": {
          "base_uri": "https://localhost:8080/"
        },
        "id": "bnHz28P0Z36s",
        "outputId": "b2e8e221-e88f-43f8-cf3d-c67c0b8630f0"
      },
      "outputs": [
        {
          "output_type": "stream",
          "name": "stdout",
          "text": [
            "Précision : 0.86\n"
          ]
        }
      ],
      "source": [
        "precision = tp / (tp + fp)\n",
        "print(f\"Précision : {precision:.2f}\")"
      ]
    },
    {
      "cell_type": "markdown",
      "metadata": {
        "id": "2SUXNHkz-qd5"
      },
      "source": [
        "- Taux de FP (False Positive Rate) = FP / (FP + TN)"
      ]
    },
    {
      "cell_type": "code",
      "execution_count": 14,
      "metadata": {
        "colab": {
          "base_uri": "https://localhost:8080/"
        },
        "id": "r_o0qyv2l0z3",
        "outputId": "d2a6b68d-7bcb-4321-dabe-504943a2ed87"
      },
      "outputs": [
        {
          "output_type": "stream",
          "name": "stdout",
          "text": [
            "Taux de FP : 0.02\n"
          ]
        }
      ],
      "source": [
        "false_positive_rate = fp / (fp + tn)\n",
        "print(f\"Taux de FP : {false_positive_rate:.2f}\")"
      ]
    },
    {
      "cell_type": "markdown",
      "metadata": {
        "id": "7gx9qcAK-wnc"
      },
      "source": [
        "- Spécificité (True Negative Rate) = TN / (TN + FP)"
      ]
    },
    {
      "cell_type": "code",
      "execution_count": 15,
      "metadata": {
        "colab": {
          "base_uri": "https://localhost:8080/"
        },
        "id": "DEXYGvurl0z5",
        "outputId": "f95d7b05-d96d-434b-9016-4fd57e1e541f"
      },
      "outputs": [
        {
          "output_type": "stream",
          "name": "stdout",
          "text": [
            "Spécificité : 0.98\n"
          ]
        }
      ],
      "source": [
        "specificity = tn / (tn + fp)\n",
        "print(f\"Spécificité : {specificity:.2f}\")"
      ]
    },
    {
      "cell_type": "markdown",
      "metadata": {
        "id": "ENA_XiFMl0z5"
      },
      "source": [
        "- Courbe ROC"
      ]
    },
    {
      "cell_type": "code",
      "source": [
        "import numpy as np\n",
        "import matplotlib.pyplot as plt\n",
        "from sklearn.metrics import roc_auc_score\n",
        "\n",
        "def roc_curve_manual(y_true, y_scores, class_label):\n",
        "    # Convertir en classification binaire : 1 si la classe correspond, 0 sinon\n",
        "    y_true_binary = (y_true == class_label).astype(int)\n",
        "\n",
        "    # Trier les seuils de classification par ordre décroissant\n",
        "    thresholds = np.sort(np.unique(y_scores))[::-1]\n",
        "\n",
        "    # Initialisation des listes\n",
        "    tpr_list = []\n",
        "    fpr_list = []\n",
        "\n",
        "    # Nombre total de positifs et négatifs\n",
        "    P = np.sum(y_true_binary == 1)\n",
        "    N = np.sum(y_true_binary == 0)\n",
        "\n",
        "    # Calcul du TPR et FPR à chaque seuil\n",
        "    for threshold in thresholds:\n",
        "        y_pred = (y_scores >= threshold).astype(int)  # Convertir en classes binaires\n",
        "\n",
        "        TP = np.sum((y_pred == 1) & (y_true_binary == 1))\n",
        "        FP = np.sum((y_pred == 1) & (y_true_binary == 0))\n",
        "        TN = np.sum((y_pred == 0) & (y_true_binary == 0))\n",
        "        FN = np.sum((y_pred == 0) & (y_true_binary == 1))\n",
        "\n",
        "        TPR = TP / P if P != 0 else 0  # Sensibilité\n",
        "        FPR = FP / N if N != 0 else 0  # Spécificité\n",
        "\n",
        "        tpr_list.append(TPR)\n",
        "        fpr_list.append(FPR)\n",
        "\n",
        "    # Calcul de l'AUC pour cette classe\n",
        "    auc_score = roc_auc_score(y_true_binary, y_scores)\n",
        "\n",
        "    return fpr_list, tpr_list, auc_score\n",
        "\n",
        "\n",
        "# Obtenir les classes uniques\n",
        "unique_classes = np.unique(y_test)\n",
        "\n",
        "# Création de la figure\n",
        "plt.figure(figsize=(7, 7), dpi=100)\n",
        "\n",
        "# Générer une courbe ROC pour chaque classe\n",
        "for class_label in unique_classes:\n",
        "    y_test_binary = (y_test == class_label).astype(int)  # Transformer en binaire\n",
        "    y_scores_class = model.predict_proba(X_test)[:, class_label - 1]  # Sélectionner la probabilité de la classe\n",
        "\n",
        "    fpr, tpr, auc_score = roc_curve_manual(y_test, y_scores_class, class_label)\n",
        "\n",
        "    # Tracer la courbe ROC pour cette classe\n",
        "    plt.plot(fpr, tpr, marker='.', linestyle='-',  markersize=3,\n",
        "             label=f\"Classe {class_label} (AUC = {auc_score:.3f})\")\n",
        "\n",
        "# Ajouter la ligne de référence (aléatoire)\n",
        "plt.plot([0, 1], [0, 1], linestyle=\"--\", color=\"gray\", alpha=0.5)\n",
        "\n",
        "# Mise en forme du graphe\n",
        "plt.xlabel(\"Taux de Faux Positifs (FPR)\", fontsize=12)\n",
        "plt.ylabel(\"Taux de Vrais Positifs (TPR)\", fontsize=12)\n",
        "plt.title(\"Courbes ROC par Classe (One-vs-All)\", fontsize=14)\n",
        "plt.legend(fontsize=10, loc=\"lower right\")\n",
        "plt.grid(alpha=0.2)\n",
        "plt.show()\n"
      ],
      "metadata": {
        "colab": {
          "base_uri": "https://localhost:8080/",
          "height": 646
        },
        "id": "rUZmVzMFBR56",
        "outputId": "af5784fb-cf2e-432a-e60e-56ba04ef6838"
      },
      "execution_count": 16,
      "outputs": [
        {
          "output_type": "display_data",
          "data": {
            "text/plain": [
              "<Figure size 700x700 with 1 Axes>"
            ],
            "image/png": "[encoded data removed]"
          },
          "metadata": {}
        }
      ]
    },
    {
      "cell_type": "markdown",
      "metadata": {
        "id": "IHfn7fgbl0z6"
      },
      "source": [
        "# Classification"
      ]
    },
    {
      "cell_type": "markdown",
      "metadata": {
        "id": "PGKbOn3el0z7"
      },
      "source": [
        "Définir d'abord la base d'entrainement Xt, Yt et la base de test Xtt, Ytt"
      ]
    },
    {
      "cell_type": "code",
      "execution_count": 17,
      "metadata": {
        "id": "mH2tdgEPl0z7"
      },
      "outputs": [],
      "source": [
        "scaler = StandardScaler()\n",
        "scaler.fit(X)\n",
        "scaled_features = scaler.transform(X)\n",
        "Xt, Xtt, Yt, Ytt = train_test_split(\n",
        "      scaled_features, Y, test_size = 0.30)"
      ]
    },
    {
      "cell_type": "markdown",
      "metadata": {
        "id": "ZEArHIKJl0z8"
      },
      "source": [
        "# Méthode 0: K- Plus Proches Voisins"
      ]
    },
    {
      "cell_type": "markdown",
      "metadata": {
        "id": "Uh7xVfJUl0z9"
      },
      "source": [
        "Ici il faudra implémenter la méthode, puis la tester et vérifier les métriques en variant le nombre K"
      ]
    },
    {
      "cell_type": "code",
      "execution_count": 20,
      "metadata": {
        "id": "1lKZnt7zl0z9",
        "colab": {
          "base_uri": "https://localhost:8080/"
        },
        "outputId": "9b4d2a9e-2f68-42f1-f39e-ae51c388a358"
      },
      "outputs": [
        {
          "output_type": "stream",
          "name": "stdout",
          "text": [
            "Précision pour K=1: 0.8673\n",
            "Précision pour K=2: 0.8673\n",
            "Précision pour K=3: 0.8740\n",
            "Précision pour K=4: 0.8793\n",
            "Précision pour K=5: 0.8707\n",
            "Précision pour K=6: 0.8760\n",
            "Précision pour K=7: 0.8727\n",
            "Précision pour K=8: 0.8753\n",
            "Précision pour K=9: 0.8687\n"
          ]
        }
      ],
      "source": [
        "from collections import Counter\n",
        "from sklearn.metrics import accuracy_score\n",
        "\n",
        "def euclidean_distance(x1, x2):\n",
        "    return np.sqrt(np.sum((x1 - x2) ** 2))\n",
        "\n",
        "class KNN:\n",
        "    def __init__(self, k=3):\n",
        "        self.k = k\n",
        "\n",
        "    def fit(self, X, Y):\n",
        "        self.X_train = X\n",
        "        self.Y_train = Y\n",
        "\n",
        "    def predict(self, X):\n",
        "        predictions = [self._predict(x) for x in X]\n",
        "        return np.array(predictions)\n",
        "\n",
        "    def _predict(self, x):\n",
        "        # Calculer toutes les distances avec les points d'entraînement\n",
        "        distances = [euclidean_distance(x, x_train) for x_train in self.X_train]\n",
        "\n",
        "        # Obtenir les indices des K plus proches voisins\n",
        "        k_indices = np.argsort(distances)[:self.k]\n",
        "\n",
        "        # Récupérer les étiquettes des voisins\n",
        "        k_nearest_labels = [self.Y_train[i] for i in k_indices]\n",
        "\n",
        "        # Retourner la classe majoritaire\n",
        "        most_common = Counter(k_nearest_labels).most_common(1)\n",
        "        return most_common[0][0]\n",
        "\n",
        "# Normalisation des données\n",
        "scaler = StandardScaler()\n",
        "scaler.fit(X)\n",
        "scaled_features = scaler.transform(X)\n",
        "\n",
        "# Division des données en entraînement et test\n",
        "Xt, Xtt, Yt, Ytt = train_test_split(scaled_features, Y, test_size=0.30, random_state=42)\n",
        "\n",
        "# Test de KNN avec différents K\n",
        "for k in [1,2, 3,4, 5,6, 7,8, 9]:\n",
        "    knn = KNN(k=k)\n",
        "    knn.fit(Xt, Yt)\n",
        "    Y_pred = knn.predict(Xtt)\n",
        "    accuracy = accuracy_score(Ytt, Y_pred)\n",
        "    print(f\"Précision pour K={k}: {accuracy:.4f}\")\n"
      ]
    },
    {
      "cell_type": "markdown",
      "metadata": {
        "id": "v9wv0lPTl0z-",
        "scrolled": false
      },
      "source": [
        "# Méthode 1: MVS\n",
        "Machine à Vecteurs de Support"
      ]
    },
    {
      "cell_type": "code",
      "execution_count": 21,
      "metadata": {
        "id": "I87X5WBKl0z_"
      },
      "outputs": [],
      "source": [
        "#Créer le modèle\n",
        "model= svm.SVC(kernel='linear')\n",
        "# entrainement\n",
        "model.fit(Xt, Yt)\n",
        "# Prediction\n",
        "y_pred = model.predict(Xtt)"
      ]
    },
    {
      "cell_type": "code",
      "execution_count": 22,
      "metadata": {
        "colab": {
          "base_uri": "https://localhost:8080/",
          "height": 488
        },
        "id": "qC8bd0uCl0z_",
        "outputId": "9dd0b063-8a99-43ec-ceeb-abeb899ba239"
      },
      "outputs": [
        {
          "output_type": "stream",
          "name": "stdout",
          "text": [
            "2\n"
          ]
        },
        {
          "output_type": "execute_result",
          "data": {
            "text/plain": [
              "<matplotlib.image.AxesImage at 0x7edb0086d610>"
            ]
          },
          "metadata": {},
          "execution_count": 22
        },
        {
          "output_type": "display_data",
          "data": {
            "text/plain": [
              "<Figure size 640x480 with 1 Axes>"
            ],
            "image/png": "[encoded data removed]"
          },
          "metadata": {}
        }
      ],
      "source": [
        "# tester une image\n",
        "c= 3\n",
        "print (y_pred[c])\n",
        "a = Xtt[c,:].reshape((20, 20))\n",
        "a=np.transpose(a)\n",
        "plt.title('label '+ str(Ytt[c]))\n",
        "plt.imshow(a,cmap='gray')"
      ]
    },
    {
      "cell_type": "markdown",
      "metadata": {
        "id": "kF8Vvak9l00A"
      },
      "source": [
        "# Méthode 2: Arbres de décision\n"
      ]
    },
    {
      "cell_type": "code",
      "execution_count": 23,
      "metadata": {
        "id": "SOGXAVhGl00B"
      },
      "outputs": [],
      "source": [
        "# Créer le modèle\n",
        "model = DecisionTreeClassifier()\n",
        "# Entrainer le modèle\n",
        "model = model.fit(Xt, Yt)\n",
        "# Prediction\n",
        "y_pred = model.predict(Xtt)"
      ]
    },
    {
      "cell_type": "code",
      "execution_count": 24,
      "metadata": {
        "colab": {
          "base_uri": "https://localhost:8080/",
          "height": 488
        },
        "id": "jcndAmvbl00B",
        "outputId": "3d21ab9a-e71e-47da-f312-f74e99e40ea2"
      },
      "outputs": [
        {
          "output_type": "stream",
          "name": "stdout",
          "text": [
            "2\n"
          ]
        },
        {
          "output_type": "execute_result",
          "data": {
            "text/plain": [
              "<matplotlib.image.AxesImage at 0x7edb00f9d790>"
            ]
          },
          "metadata": {},
          "execution_count": 24
        },
        {
          "output_type": "display_data",
          "data": {
            "text/plain": [
              "<Figure size 640x480 with 1 Axes>"
            ],
            "image/png": "[encoded data removed]"
          },
          "metadata": {}
        }
      ],
      "source": [
        "# tester une image\n",
        "c= 3\n",
        "print (y_pred[c])\n",
        "a = Xtt[c,:].reshape((20, 20))\n",
        "a=np.transpose(a)\n",
        "plt.title('label '+ str(Ytt[c]))\n",
        "plt.imshow(a,cmap='gray')"
      ]
    },
    {
      "cell_type": "markdown",
      "metadata": {
        "id": "4rZNPN91l00C"
      },
      "source": [
        "# Méthode 3: RN\n",
        "Réseaux de neurones Perceptron"
      ]
    },
    {
      "cell_type": "code",
      "execution_count": 25,
      "metadata": {
        "colab": {
          "base_uri": "https://localhost:8080/",
          "height": 80
        },
        "id": "ZqseGqptl00E",
        "outputId": "7f2afd3e-8672-4240-dbdd-be5b41b23522"
      },
      "outputs": [
        {
          "output_type": "execute_result",
          "data": {
            "text/plain": [
              "MLPClassifier(alpha=1e-05, hidden_layer_sizes=25, max_iter=100000, solver='sgd')"
            ],
            "text/html": [
              "<style>#sk-container-id-1 {\n",
              "  /* Definition of color scheme common for light and dark mode */\n",
              "  --sklearn-color-text: #000;\n",
              "  --sklearn-color-text-muted: #666;\n",
              "  --sklearn-color-line: gray;\n",
              "  /* Definition of color scheme for unfitted estimators */\n",
              "  --sklearn-color-unfitted-level-0: #fff5e6;\n",
              "  --sklearn-color-unfitted-level-1: #f6e4d2;\n",
              "  --sklearn-color-unfitted-level-2: #ffe0b3;\n",
              "  --sklearn-color-unfitted-level-3: chocolate;\n",
              "  /* Definition of color scheme for fitted estimators */\n",
              "  --sklearn-color-fitted-level-0: #f0f8ff;\n",
              "  --sklearn-color-fitted-level-1: #d4ebff;\n",
              "  --sklearn-color-fitted-level-2: #b3dbfd;\n",
              "  --sklearn-color-fitted-level-3: cornflowerblue;\n",
              "\n",
              "  /* Specific color for light theme */\n",
              "  --sklearn-color-text-on-default-background: var(--sg-text-color, var(--theme-code-foreground, var(--jp-content-font-color1, black)));\n",
              "  --sklearn-color-background: var(--sg-background-color, var(--theme-background, var(--jp-layout-color0, white)));\n",
              "  --sklearn-color-border-box: var(--sg-text-color, var(--theme-code-foreground, var(--jp-content-font-color1, black)));\n",
              "  --sklearn-color-icon: #696969;\n",
              "\n",
              "  @media (prefers-color-scheme: dark) {\n",
              "    /* Redefinition of color scheme for dark theme */\n",
              "    --sklearn-color-text-on-default-background: var(--sg-text-color, var(--theme-code-foreground, var(--jp-content-font-color1, white)));\n",
              "    --sklearn-color-background: var(--sg-background-color, var(--theme-background, var(--jp-layout-color0, #111)));\n",
              "    --sklearn-color-border-box: var(--sg-text-color, var(--theme-code-foreground, var(--jp-content-font-color1, white)));\n",
              "    --sklearn-color-icon: #878787;\n",
              "  }\n",
              "}\n",
              "\n",
              "#sk-container-id-1 {\n",
              "  color: var(--sklearn-color-text);\n",
              "}\n",
              "\n",
              "#sk-container-id-1 pre {\n",
              "  padding: 0;\n",
              "}\n",
              "\n",
              "#sk-container-id-1 input.sk-hidden--visually {\n",
              "  border: 0;\n",
              "  clip: rect(1px 1px 1px 1px);\n",
              "  clip: rect(1px, 1px, 1px, 1px);\n",
              "  height: 1px;\n",
              "  margin: -1px;\n",
              "  overflow: hidden;\n",
              "  padding: 0;\n",
              "  position: absolute;\n",
              "  width: 1px;\n",
              "}\n",
              "\n",
              "#sk-container-id-1 div.sk-dashed-wrapped {\n",
              "  border: 1px dashed var(--sklearn-color-line);\n",
              "  margin: 0 0.4em 0.5em 0.4em;\n",
              "  box-sizing: border-box;\n",
              "  padding-bottom: 0.4em;\n",
              "  background-color: var(--sklearn-color-background);\n",
              "}\n",
              "\n",
              "#sk-container-id-1 div.sk-container {\n",
              "  /* jupyter's `normalize.less` sets `[hidden] { display: none; }`\n",
              "     but bootstrap.min.css set `[hidden] { display: none !important; }`\n",
              "     so we also need the `!important` here to be able to override the\n",
              "     default hidden behavior on the sphinx rendered scikit-learn.org.\n",
              "     See: https://github.com/scikit-learn/scikit-learn/issues/21755 */\n",
              "  display: inline-block !important;\n",
              "  position: relative;\n",
              "}\n",
              "\n",
              "#sk-container-id-1 div.sk-text-repr-fallback {\n",
              "  display: none;\n",
              "}\n",
              "\n",
              "div.sk-parallel-item,\n",
              "div.sk-serial,\n",
              "div.sk-item {\n",
              "  /* draw centered vertical line to link estimators */\n",
              "  background-image: linear-gradient(var(--sklearn-color-text-on-default-background), var(--sklearn-color-text-on-default-background));\n",
              "  background-size: 2px 100%;\n",
              "  background-repeat: no-repeat;\n",
              "  background-position: center center;\n",
              "}\n",
              "\n",
              "/* Parallel-specific style estimator block */\n",
              "\n",
              "#sk-container-id-1 div.sk-parallel-item::after {\n",
              "  content: \"\";\n",
              "  width: 100%;\n",
              "  border-bottom: 2px solid var(--sklearn-color-text-on-default-background);\n",
              "  flex-grow: 1;\n",
              "}\n",
              "\n",
              "#sk-container-id-1 div.sk-parallel {\n",
              "  display: flex;\n",
              "  align-items: stretch;\n",
              "  justify-content: center;\n",
              "  background-color: var(--sklearn-color-background);\n",
              "  position: relative;\n",
              "}\n",
              "\n",
              "#sk-container-id-1 div.sk-parallel-item {\n",
              "  display: flex;\n",
              "  flex-direction: column;\n",
              "}\n",
              "\n",
              "#sk-container-id-1 div.sk-parallel-item:first-child::after {\n",
              "  align-self: flex-end;\n",
              "  width: 50%;\n",
              "}\n",
              "\n",
              "#sk-container-id-1 div.sk-parallel-item:last-child::after {\n",
              "  align-self: flex-start;\n",
              "  width: 50%;\n",
              "}\n",
              "\n",
              "#sk-container-id-1 div.sk-parallel-item:only-child::after {\n",
              "  width: 0;\n",
              "}\n",
              "\n",
              "/* Serial-specific style estimator block */\n",
              "\n",
              "#sk-container-id-1 div.sk-serial {\n",
              "  display: flex;\n",
              "  flex-direction: column;\n",
              "  align-items: center;\n",
              "  background-color: var(--sklearn-color-background);\n",
              "  padding-right: 1em;\n",
              "  padding-left: 1em;\n",
              "}\n",
              "\n",
              "\n",
              "/* Toggleable style: style used for estimator/Pipeline/ColumnTransformer box that is\n",
              "clickable and can be expanded/collapsed.\n",
              "- Pipeline and ColumnTransformer use this feature and define the default style\n",
              "- Estimators will overwrite some part of the style using the `sk-estimator` class\n",
              "*/\n",
              "\n",
              "/* Pipeline and ColumnTransformer style (default) */\n",
              "\n",
              "#sk-container-id-1 div.sk-toggleable {\n",
              "  /* Default theme specific background. It is overwritten whether we have a\n",
              "  specific estimator or a Pipeline/ColumnTransformer */\n",
              "  background-color: var(--sklearn-color-background);\n",
              "}\n",
              "\n",
              "/* Toggleable label */\n",
              "#sk-container-id-1 label.sk-toggleable__label {\n",
              "  cursor: pointer;\n",
              "  display: flex;\n",
              "  width: 100%;\n",
              "  margin-bottom: 0;\n",
              "  padding: 0.5em;\n",
              "  box-sizing: border-box;\n",
              "  text-align: center;\n",
              "  align-items: start;\n",
              "  justify-content: space-between;\n",
              "  gap: 0.5em;\n",
              "}\n",
              "\n",
              "#sk-container-id-1 label.sk-toggleable__label .caption {\n",
              "  font-size: 0.6rem;\n",
              "  font-weight: lighter;\n",
              "  color: var(--sklearn-color-text-muted);\n",
              "}\n",
              "\n",
              "#sk-container-id-1 label.sk-toggleable__label-arrow:before {\n",
              "  /* Arrow on the left of the label */\n",
              "  content: \"▸\";\n",
              "  float: left;\n",
              "  margin-right: 0.25em;\n",
              "  color: var(--sklearn-color-icon);\n",
              "}\n",
              "\n",
              "#sk-container-id-1 label.sk-toggleable__label-arrow:hover:before {\n",
              "  color: var(--sklearn-color-text);\n",
              "}\n",
              "\n",
              "/* Toggleable content - dropdown */\n",
              "\n",
              "#sk-container-id-1 div.sk-toggleable__content {\n",
              "  max-height: 0;\n",
              "  max-width: 0;\n",
              "  overflow: hidden;\n",
              "  text-align: left;\n",
              "  /* unfitted */\n",
              "  background-color: var(--sklearn-color-unfitted-level-0);\n",
              "}\n",
              "\n",
              "#sk-container-id-1 div.sk-toggleable__content.fitted {\n",
              "  /* fitted */\n",
              "  background-color: var(--sklearn-color-fitted-level-0);\n",
              "}\n",
              "\n",
              "#sk-container-id-1 div.sk-toggleable__content pre {\n",
              "  margin: 0.2em;\n",
              "  border-radius: 0.25em;\n",
              "  color: var(--sklearn-color-text);\n",
              "  /* unfitted */\n",
              "  background-color: var(--sklearn-color-unfitted-level-0);\n",
              "}\n",
              "\n",
              "#sk-container-id-1 div.sk-toggleable__content.fitted pre {\n",
              "  /* unfitted */\n",
              "  background-color: var(--sklearn-color-fitted-level-0);\n",
              "}\n",
              "\n",
              "#sk-container-id-1 input.sk-toggleable__control:checked~div.sk-toggleable__content {\n",
              "  /* Expand drop-down */\n",
              "  max-height: 200px;\n",
              "  max-width: 100%;\n",
              "  overflow: auto;\n",
              "}\n",
              "\n",
              "#sk-container-id-1 input.sk-toggleable__control:checked~label.sk-toggleable__label-arrow:before {\n",
              "  content: \"▾\";\n",
              "}\n",
              "\n",
              "/* Pipeline/ColumnTransformer-specific style */\n",
              "\n",
              "#sk-container-id-1 div.sk-label input.sk-toggleable__control:checked~label.sk-toggleable__label {\n",
              "  color: var(--sklearn-color-text);\n",
              "  background-color: var(--sklearn-color-unfitted-level-2);\n",
              "}\n",
              "\n",
              "#sk-container-id-1 div.sk-label.fitted input.sk-toggleable__control:checked~label.sk-toggleable__label {\n",
              "  background-color: var(--sklearn-color-fitted-level-2);\n",
              "}\n",
              "\n",
              "/* Estimator-specific style */\n",
              "\n",
              "/* Colorize estimator box */\n",
              "#sk-container-id-1 div.sk-estimator input.sk-toggleable__control:checked~label.sk-toggleable__label {\n",
              "  /* unfitted */\n",
              "  background-color: var(--sklearn-color-unfitted-level-2);\n",
              "}\n",
              "\n",
              "#sk-container-id-1 div.sk-estimator.fitted input.sk-toggleable__control:checked~label.sk-toggleable__label {\n",
              "  /* fitted */\n",
              "  background-color: var(--sklearn-color-fitted-level-2);\n",
              "}\n",
              "\n",
              "#sk-container-id-1 div.sk-label label.sk-toggleable__label,\n",
              "#sk-container-id-1 div.sk-label label {\n",
              "  /* The background is the default theme color */\n",
              "  color: var(--sklearn-color-text-on-default-background);\n",
              "}\n",
              "\n",
              "/* On hover, darken the color of the background */\n",
              "#sk-container-id-1 div.sk-label:hover label.sk-toggleable__label {\n",
              "  color: var(--sklearn-color-text);\n",
              "  background-color: var(--sklearn-color-unfitted-level-2);\n",
              "}\n",
              "\n",
              "/* Label box, darken color on hover, fitted */\n",
              "#sk-container-id-1 div.sk-label.fitted:hover label.sk-toggleable__label.fitted {\n",
              "  color: var(--sklearn-color-text);\n",
              "  background-color: var(--sklearn-color-fitted-level-2);\n",
              "}\n",
              "\n",
              "/* Estimator label */\n",
              "\n",
              "#sk-container-id-1 div.sk-label label {\n",
              "  font-family: monospace;\n",
              "  font-weight: bold;\n",
              "  display: inline-block;\n",
              "  line-height: 1.2em;\n",
              "}\n",
              "\n",
              "#sk-container-id-1 div.sk-label-container {\n",
              "  text-align: center;\n",
              "}\n",
              "\n",
              "/* Estimator-specific */\n",
              "#sk-container-id-1 div.sk-estimator {\n",
              "  font-family: monospace;\n",
              "  border: 1px dotted var(--sklearn-color-border-box);\n",
              "  border-radius: 0.25em;\n",
              "  box-sizing: border-box;\n",
              "  margin-bottom: 0.5em;\n",
              "  /* unfitted */\n",
              "  background-color: var(--sklearn-color-unfitted-level-0);\n",
              "}\n",
              "\n",
              "#sk-container-id-1 div.sk-estimator.fitted {\n",
              "  /* fitted */\n",
              "  background-color: var(--sklearn-color-fitted-level-0);\n",
              "}\n",
              "\n",
              "/* on hover */\n",
              "#sk-container-id-1 div.sk-estimator:hover {\n",
              "  /* unfitted */\n",
              "  background-color: var(--sklearn-color-unfitted-level-2);\n",
              "}\n",
              "\n",
              "#sk-container-id-1 div.sk-estimator.fitted:hover {\n",
              "  /* fitted */\n",
              "  background-color: var(--sklearn-color-fitted-level-2);\n",
              "}\n",
              "\n",
              "/* Specification for estimator info (e.g. \"i\" and \"?\") */\n",
              "\n",
              "/* Common style for \"i\" and \"?\" */\n",
              "\n",
              ".sk-estimator-doc-link,\n",
              "a:link.sk-estimator-doc-link,\n",
              "a:visited.sk-estimator-doc-link {\n",
              "  float: right;\n",
              "  font-size: smaller;\n",
              "  line-height: 1em;\n",
              "  font-family: monospace;\n",
              "  background-color: var(--sklearn-color-background);\n",
              "  border-radius: 1em;\n",
              "  height: 1em;\n",
              "  width: 1em;\n",
              "  text-decoration: none !important;\n",
              "  margin-left: 0.5em;\n",
              "  text-align: center;\n",
              "  /* unfitted */\n",
              "  border: var(--sklearn-color-unfitted-level-1) 1pt solid;\n",
              "  color: var(--sklearn-color-unfitted-level-1);\n",
              "}\n",
              "\n",
              ".sk-estimator-doc-link.fitted,\n",
              "a:link.sk-estimator-doc-link.fitted,\n",
              "a:visited.sk-estimator-doc-link.fitted {\n",
              "  /* fitted */\n",
              "  border: var(--sklearn-color-fitted-level-1) 1pt solid;\n",
              "  color: var(--sklearn-color-fitted-level-1);\n",
              "}\n",
              "\n",
              "/* On hover */\n",
              "div.sk-estimator:hover .sk-estimator-doc-link:hover,\n",
              ".sk-estimator-doc-link:hover,\n",
              "div.sk-label-container:hover .sk-estimator-doc-link:hover,\n",
              ".sk-estimator-doc-link:hover {\n",
              "  /* unfitted */\n",
              "  background-color: var(--sklearn-color-unfitted-level-3);\n",
              "  color: var(--sklearn-color-background);\n",
              "  text-decoration: none;\n",
              "}\n",
              "\n",
              "div.sk-estimator.fitted:hover .sk-estimator-doc-link.fitted:hover,\n",
              ".sk-estimator-doc-link.fitted:hover,\n",
              "div.sk-label-container:hover .sk-estimator-doc-link.fitted:hover,\n",
              ".sk-estimator-doc-link.fitted:hover {\n",
              "  /* fitted */\n",
              "  background-color: var(--sklearn-color-fitted-level-3);\n",
              "  color: var(--sklearn-color-background);\n",
              "  text-decoration: none;\n",
              "}\n",
              "\n",
              "/* Span, style for the box shown on hovering the info icon */\n",
              ".sk-estimator-doc-link span {\n",
              "  display: none;\n",
              "  z-index: 9999;\n",
              "  position: relative;\n",
              "  font-weight: normal;\n",
              "  right: .2ex;\n",
              "  padding: .5ex;\n",
              "  margin: .5ex;\n",
              "  width: min-content;\n",
              "  min-width: 20ex;\n",
              "  max-width: 50ex;\n",
              "  color: var(--sklearn-color-text);\n",
              "  box-shadow: 2pt 2pt 4pt #999;\n",
              "  /* unfitted */\n",
              "  background: var(--sklearn-color-unfitted-level-0);\n",
              "  border: .5pt solid var(--sklearn-color-unfitted-level-3);\n",
              "}\n",
              "\n",
              ".sk-estimator-doc-link.fitted span {\n",
              "  /* fitted */\n",
              "  background: var(--sklearn-color-fitted-level-0);\n",
              "  border: var(--sklearn-color-fitted-level-3);\n",
              "}\n",
              "\n",
              ".sk-estimator-doc-link:hover span {\n",
              "  display: block;\n",
              "}\n",
              "\n",
              "/* \"?\"-specific style due to the `<a>` HTML tag */\n",
              "\n",
              "#sk-container-id-1 a.estimator_doc_link {\n",
              "  float: right;\n",
              "  font-size: 1rem;\n",
              "  line-height: 1em;\n",
              "  font-family: monospace;\n",
              "  background-color: var(--sklearn-color-background);\n",
              "  border-radius: 1rem;\n",
              "  height: 1rem;\n",
              "  width: 1rem;\n",
              "  text-decoration: none;\n",
              "  /* unfitted */\n",
              "  color: var(--sklearn-color-unfitted-level-1);\n",
              "  border: var(--sklearn-color-unfitted-level-1) 1pt solid;\n",
              "}\n",
              "\n",
              "#sk-container-id-1 a.estimator_doc_link.fitted {\n",
              "  /* fitted */\n",
              "  border: var(--sklearn-color-fitted-level-1) 1pt solid;\n",
              "  color: var(--sklearn-color-fitted-level-1);\n",
              "}\n",
              "\n",
              "/* On hover */\n",
              "#sk-container-id-1 a.estimator_doc_link:hover {\n",
              "  /* unfitted */\n",
              "  background-color: var(--sklearn-color-unfitted-level-3);\n",
              "  color: var(--sklearn-color-background);\n",
              "  text-decoration: none;\n",
              "}\n",
              "\n",
              "#sk-container-id-1 a.estimator_doc_link.fitted:hover {\n",
              "  /* fitted */\n",
              "  background-color: var(--sklearn-color-fitted-level-3);\n",
              "}\n",
              "</style><div id=\"sk-container-id-1\" class=\"sk-top-container\"><div class=\"sk-text-repr-fallback\"><pre>MLPClassifier(alpha=1e-05, hidden_layer_sizes=25, max_iter=100000, solver=&#x27;sgd&#x27;)</pre><b>In a Jupyter environment, please rerun this cell to show the HTML representation or trust the notebook. <br />On GitHub, the HTML representation is unable to render, please try loading this page with nbviewer.org.</b></div><div class=\"sk-container\" hidden><div class=\"sk-item\"><div class=\"sk-estimator fitted sk-toggleable\"><input class=\"sk-toggleable__control sk-hidden--visually\" id=\"sk-estimator-id-1\" type=\"checkbox\" checked><label for=\"sk-estimator-id-1\" class=\"sk-toggleable__label fitted sk-toggleable__label-arrow\"><div><div>MLPClassifier</div></div><div><a class=\"sk-estimator-doc-link fitted\" rel=\"noreferrer\" target=\"_blank\" href=\"https://scikit-learn.org/1.6/modules/generated/sklearn.neural_network.MLPClassifier.html\">?<span>Documentation for MLPClassifier</span></a><span class=\"sk-estimator-doc-link fitted\">i<span>Fitted</span></span></div></label><div class=\"sk-toggleable__content fitted\"><pre>MLPClassifier(alpha=1e-05, hidden_layer_sizes=25, max_iter=100000, solver=&#x27;sgd&#x27;)</pre></div> </div></div></div></div>"
            ]
          },
          "metadata": {},
          "execution_count": 25
        }
      ],
      "source": [
        "model = MLPClassifier(solver='sgd', alpha=1e-5, hidden_layer_sizes=(25),max_iter=100000)\n",
        "Xt, Xtt, Yt, Ytt = train_test_split(X, Y, random_state=0, test_size=0.7)\n",
        "model.fit(Xt, Yt)"
      ]
    },
    {
      "cell_type": "code",
      "execution_count": 26,
      "metadata": {
        "id": "4M7gZVVWl00F"
      },
      "outputs": [],
      "source": [
        "# Choisir un image de test\n",
        "c=0"
      ]
    },
    {
      "cell_type": "code",
      "execution_count": 27,
      "metadata": {
        "colab": {
          "base_uri": "https://localhost:8080/"
        },
        "id": "Xy0Rda31l00F",
        "scrolled": true,
        "outputId": "73c9d568-4fc7-4a8c-9a0f-a98d63d9e7a0"
      },
      "outputs": [
        {
          "output_type": "execute_result",
          "data": {
            "text/plain": [
              "array([8])"
            ]
          },
          "metadata": {},
          "execution_count": 27
        }
      ],
      "source": [
        "model.predict([Xtt[c,:]])"
      ]
    },
    {
      "cell_type": "code",
      "execution_count": 28,
      "metadata": {
        "colab": {
          "base_uri": "https://localhost:8080/"
        },
        "id": "QN122JmZl00G",
        "outputId": "ed11a2ed-339e-4057-ddcb-51049f20a741"
      },
      "outputs": [
        {
          "output_type": "execute_result",
          "data": {
            "text/plain": [
              "array([[0.03985391, 0.11523875, 0.1691533 , 0.03784617, 0.17129647,\n",
              "        0.03986563, 0.03455799, 0.1782576 , 0.04197939, 0.17195078]])"
            ]
          },
          "metadata": {},
          "execution_count": 28
        }
      ],
      "source": [
        "# pour ROC, il faudra les probabilités:\n",
        "model.predict_proba([Xtt[c,:]])"
      ]
    },
    {
      "cell_type": "markdown",
      "metadata": {
        "id": "5bnMb0U1l00H"
      },
      "source": [
        "Afficher l'image testée"
      ]
    },
    {
      "cell_type": "code",
      "execution_count": 29,
      "metadata": {
        "colab": {
          "base_uri": "https://localhost:8080/",
          "height": 470
        },
        "id": "wX7-5roHl00H",
        "outputId": "a95d020e-af25-4810-b91d-65d731ab0356"
      },
      "outputs": [
        {
          "output_type": "execute_result",
          "data": {
            "text/plain": [
              "<matplotlib.image.AxesImage at 0x7edafb129510>"
            ]
          },
          "metadata": {},
          "execution_count": 29
        },
        {
          "output_type": "display_data",
          "data": {
            "text/plain": [
              "<Figure size 640x480 with 1 Axes>"
            ],
            "image/png": "[encoded data removed]"
          },
          "metadata": {}
        }
      ],
      "source": [
        "a = Xtt[c,:].reshape((20, 20))\n",
        "a=np.transpose(a)\n",
        "plt.title('label '+ str(Ytt[c]))\n",
        "plt.imshow(a,cmap='gray')"
      ]
    },
    {
      "cell_type": "markdown",
      "metadata": {
        "id": "_txSaLVpl00L"
      },
      "source": [
        "# Appliquer les métriques implementées pour voir le résultat et comparer les avec celles des librairies de python"
      ]
    },
    {
      "cell_type": "markdown",
      "source": [
        "# Matrice de confusion"
      ],
      "metadata": {
        "id": "JzXSmQqqSH6Z"
      }
    },
    {
      "cell_type": "code",
      "source": [
        "cm = confusion_matrix(y_test, y_pred)\n"
      ],
      "metadata": {
        "id": "EVlgQ6UiSFLH"
      },
      "execution_count": 31,
      "outputs": []
    },
    {
      "cell_type": "markdown",
      "source": [
        "# Les metriques"
      ],
      "metadata": {
        "id": "NyvobE0LScf_"
      }
    },
    {
      "cell_type": "code",
      "source": [
        "from sklearn.metrics import accuracy_score, precision_score, recall_score, f1_score, ConfusionMatrixDisplay\n",
        "\n",
        "\n",
        "accuracy = accuracy_score(y_test, y_pred)\n",
        "precision = precision_score(y_test, y_pred, average='weighted')\n",
        "recall = recall_score(y_test, y_pred, average='weighted')\n",
        "f1 = f1_score(y_test, y_pred, average='weighted')\n",
        "\n",
        "print(f\"Accuracy: {accuracy:.4f}\")\n",
        "print(f\"Precision: {precision:.4f}\")\n",
        "print(f\"Recall: {recall:.4f}\")\n",
        "print(f\"F1-score: {f1:.4f}\")\n",
        "\n",
        "\n",
        "ConfusionMatrixDisplay.from_predictions(y_test, y_pred)\n"
      ],
      "metadata": {
        "colab": {
          "base_uri": "https://localhost:8080/",
          "height": 546
        },
        "id": "AuK-bE2nSbWg",
        "outputId": "4a375fa8-6d2a-42ba-8497-4948ccfd4dc0"
      },
      "execution_count": 34,
      "outputs": [
        {
          "output_type": "stream",
          "name": "stdout",
          "text": [
            "Accuracy: 0.8613\n",
            "Precision: 0.8634\n",
            "Recall: 0.8613\n",
            "F1-score: 0.8617\n"
          ]
        },
        {
          "output_type": "execute_result",
          "data": {
            "text/plain": [
              "<sklearn.metrics._plot.confusion_matrix.ConfusionMatrixDisplay at 0x7edb031d3710>"
            ]
          },
          "metadata": {},
          "execution_count": 34
        },
        {
          "output_type": "display_data",
          "data": {
            "text/plain": [
              "<Figure size 640x480 with 2 Axes>"
            ],
            "image/png": "[encoded data removed]"
          },
          "metadata": {}
        }
      ]
    },
    {
      "cell_type": "markdown",
      "source": [
        "# Courbe ROC"
      ],
      "metadata": {
        "id": "LUd4iquoSMqn"
      }
    },
    {
      "cell_type": "code",
      "source": [
        "from sklearn.preprocessing import label_binarize\n",
        "from sklearn.metrics import roc_curve, auc\n",
        "\n",
        "y_pred_prob = model.predict_proba(X_test)\n",
        "\n",
        "\n",
        "y_test_bin = label_binarize(y_test, classes=np.unique(y_test))\n",
        "\n",
        "n_classes = y_test_bin.shape[1]\n",
        "\n",
        "fpr = dict()\n",
        "tpr = dict()\n",
        "roc_auc = dict()\n",
        "\n",
        "for i in range(n_classes):\n",
        "    fpr[i], tpr[i], _ = roc_curve(y_test_bin[:, i], y_pred_prob[:, i])\n",
        "    roc_auc[i] = auc(fpr[i], tpr[i])\n",
        "\n",
        "\n",
        "plt.figure()\n",
        "for i in range(n_classes):\n",
        "    plt.plot(fpr[i], tpr[i], lw=2, label='ROC curve of class {0} (area = {1:0.2f})'\n",
        "             ''.format(i, roc_auc[i]))\n",
        "\n",
        "plt.plot([0, 1], [0, 1], color='navy', lw=2, linestyle='--')\n",
        "plt.xlim([0.0, 1.0])\n",
        "plt.ylim([0.0, 1.05])\n",
        "plt.xlabel('False Positive Rate')\n",
        "plt.ylabel('True Positive Rate')\n",
        "plt.title('Receiver Operating Characteristic')\n",
        "plt.legend(loc=\"lower right\")\n",
        "plt.show()"
      ],
      "metadata": {
        "colab": {
          "base_uri": "https://localhost:8080/",
          "height": 472
        },
        "id": "u0uhut3JRvLC",
        "outputId": "68abb55e-4ce6-431c-940f-21770140139b"
      },
      "execution_count": 32,
      "outputs": [
        {
          "output_type": "display_data",
          "data": {
            "text/plain": [
              "<Figure size 640x480 with 1 Axes>"
            ],
            "image/png": "[encoded data removed]"
          },
          "metadata": {}
        }
      ]
    },
    {
      "cell_type": "markdown",
      "source": [
        "# KNN"
      ],
      "metadata": {
        "id": "xlaroZ6IOnvd"
      }
    },
    {
      "cell_type": "code",
      "execution_count": 36,
      "metadata": {
        "colab": {
          "base_uri": "https://localhost:8080/"
        },
        "id": "nkZxFuQKl00M",
        "outputId": "11c2acc8-c095-4fb7-9ea6-ab9138a073e4"
      },
      "outputs": [
        {
          "output_type": "stream",
          "name": "stdout",
          "text": [
            "Accuracy for K=1: 0.9243\n",
            "Accuracy for K=2: 0.9023\n",
            "Accuracy for K=3: 0.9163\n",
            "Accuracy for K=4: 0.9154\n",
            "Accuracy for K=5: 0.9163\n",
            "Accuracy for K=6: 0.9169\n",
            "Accuracy for K=7: 0.9151\n",
            "Accuracy for K=8: 0.9120\n",
            "Accuracy for K=9: 0.9089\n",
            "Accuracy for K=10: 0.9037\n"
          ]
        }
      ],
      "source": [
        "for k in range(1, 11):\n",
        "    knn = KNeighborsClassifier(n_neighbors=k)\n",
        "    knn.fit(Xt, Yt)\n",
        "    Y_pred = knn.predict(Xtt)\n",
        "    accuracy = accuracy_score(Ytt, Y_pred)\n",
        "    print(f\"Accuracy for K={k}: {accuracy:.4f}\")"
      ]
    },
    {
      "cell_type": "markdown",
      "metadata": {
        "id": "S-6lUANvY5aQ"
      },
      "source": [
        "# Refaire le processus sur un autre dataset de votre choix (exemple: iris...)"
      ]
    },
    {
      "cell_type": "code",
      "source": [
        "from sklearn.datasets import load_iris\n",
        "\n",
        "iris = load_iris()\n",
        "X, y = iris.data, iris.target\n",
        "class_names = iris.target_names  # Noms des classes\n",
        "print( \"la taille du target names \",len(iris.target_names))\n",
        "print(class_names)\n",
        "print(\"la taille du data \",len(iris.data))\n"
      ],
      "metadata": {
        "colab": {
          "base_uri": "https://localhost:8080/"
        },
        "id": "u42xOHR9X1Ta",
        "outputId": "edf49cf5-4dbb-4f8f-d49f-3dce1fa5139d"
      },
      "execution_count": 11,
      "outputs": [
        {
          "output_type": "stream",
          "name": "stdout",
          "text": [
            "la taille du target names  3\n",
            "['setosa' 'versicolor' 'virginica']\n",
            "la taille du data  150\n"
          ]
        }
      ]
    },
    {
      "cell_type": "code",
      "execution_count": 7,
      "metadata": {
        "id": "oj_ivVXZY5aQ",
        "colab": {
          "base_uri": "https://localhost:8080/",
          "height": 522
        },
        "outputId": "8efa7084-61bb-48fc-8cb9-64dd1051980e"
      },
      "outputs": [
        {
          "output_type": "stream",
          "name": "stdout",
          "text": [
            "🔹 Accuracy: 1.0000\n",
            "🔹 Precision: 1.0000\n",
            "🔹 Recall: 1.0000\n",
            "🔹 F1-score: 1.0000\n"
          ]
        },
        {
          "output_type": "display_data",
          "data": {
            "text/plain": [
              "<Figure size 640x480 with 2 Axes>"
            ],
            "image/png": "[encoded data removed]"
          },
          "metadata": {}
        }
      ],
      "source": [
        "scaler = StandardScaler()\n",
        "X_scaled = scaler.fit_transform(X)\n",
        "\n",
        "\n",
        "X_train, X_test, y_train, y_test = train_test_split(X_scaled, y, test_size=0.3, random_state=42)\n",
        "\n",
        "model = MLPClassifier(hidden_layer_sizes=(100,), max_iter=1000, random_state=42)\n",
        "model.fit(X_train, y_train)\n",
        "\n",
        "\n",
        "y_pred = model.predict(X_test)\n",
        "\n",
        "accuracy = accuracy_score(y_test, y_pred)\n",
        "precision = precision_score(y_test, y_pred, average='weighted')\n",
        "recall = recall_score(y_test, y_pred, average='weighted')\n",
        "f1 = f1_score(y_test, y_pred, average='weighted')\n",
        "\n",
        "print(f\"🔹 Accuracy: {accuracy:.4f}\")\n",
        "print(f\"🔹 Precision: {precision:.4f}\")\n",
        "print(f\"🔹 Recall: {recall:.4f}\")\n",
        "print(f\"🔹 F1-score: {f1:.4f}\")\n",
        "\n",
        "\n",
        "cm = confusion_matrix(y_test, y_pred)\n",
        "disp = ConfusionMatrixDisplay(confusion_matrix=cm, display_labels=class_names)\n",
        "disp.plot(cmap=\"Blues\")\n",
        "plt.show()\n"
      ]
    },
    {
      "cell_type": "markdown",
      "source": [
        "# KNN"
      ],
      "metadata": {
        "id": "2mUK_TTlWdRR"
      }
    },
    {
      "cell_type": "code",
      "source": [
        "scaler = StandardScaler()\n",
        "X_scaled = scaler.fit_transform(X)\n",
        "\n",
        "\n",
        "X_train, X_test, y_train, y_test = train_test_split(X_scaled, y, test_size=0.3, random_state=42)\n",
        "\n",
        "\n",
        "best_k = 0\n",
        "best_accuracy = 0\n",
        "\n",
        "for k in range(1, 11):\n",
        "    knn = KNeighborsClassifier(n_neighbors=k)\n",
        "    knn.fit(X_train, y_train)\n",
        "    y_pred = knn.predict(X_test)\n",
        "\n",
        "    acc = accuracy_score(y_test, y_pred)\n",
        "    print(f\"K={k} → Accuracy: {acc:.4f}\")\n",
        "\n",
        "    if acc > best_accuracy:\n",
        "        best_accuracy = acc\n",
        "        best_k = k\n",
        "\n",
        "print(f\"\\n Meilleur K = {best_k} avec Accuracy = {best_accuracy:.4f}\\n\")\n",
        "knn = KNeighborsClassifier(n_neighbors=best_k)\n",
        "knn.fit(X_train, y_train)\n",
        "y_pred = knn.predict(X_test)\n",
        "\n",
        "\n",
        "accuracy = accuracy_score(y_test, y_pred)\n",
        "precision = precision_score(y_test, y_pred, average='weighted')\n",
        "recall = recall_score(y_test, y_pred, average='weighted')\n",
        "f1 = f1_score(y_test, y_pred, average='weighted')\n",
        "\n",
        "print(f\"Résultats finaux avec K={best_k}\")\n",
        "print(f\"🔹 Accuracy: {accuracy:.4f}\")\n",
        "print(f\"🔹 Precision: {precision:.4f}\")\n",
        "print(f\"🔹 Recall: {recall:.4f}\")\n",
        "print(f\"🔹 F1-score: {f1:.4f}\")\n",
        "\n",
        "cm = confusion_matrix(y_test, y_pred)\n",
        "disp = ConfusionMatrixDisplay(confusion_matrix=cm, display_labels=class_names)\n",
        "disp.plot(cmap=\"Blues\")\n",
        "plt.show()\n"
      ],
      "metadata": {
        "colab": {
          "base_uri": "https://localhost:8080/",
          "height": 776
        },
        "id": "iidleHV0Wb7I",
        "outputId": "68ffe2f4-b233-473f-f159-dbd68d392ee5"
      },
      "execution_count": 30,
      "outputs": [
        {
          "output_type": "stream",
          "name": "stdout",
          "text": [
            "K=1 → Accuracy: 0.9778\n",
            "K=2 → Accuracy: 0.9778\n",
            "K=3 → Accuracy: 1.0000\n",
            "K=4 → Accuracy: 0.9778\n",
            "K=5 → Accuracy: 1.0000\n",
            "K=6 → Accuracy: 1.0000\n",
            "K=7 → Accuracy: 1.0000\n",
            "K=8 → Accuracy: 1.0000\n",
            "K=9 → Accuracy: 1.0000\n",
            "K=10 → Accuracy: 1.0000\n",
            "\n",
            " Meilleur K = 3 avec Accuracy = 1.0000\n",
            "\n",
            "Résultats finaux avec K=3\n",
            "🔹 Accuracy: 1.0000\n",
            "🔹 Precision: 1.0000\n",
            "🔹 Recall: 1.0000\n",
            "🔹 F1-score: 1.0000\n"
          ]
        },
        {
          "output_type": "display_data",
          "data": {
            "text/plain": [
              "<Figure size 640x480 with 2 Axes>"
            ],
            "image/png": "[encoded data removed]"
          },
          "metadata": {}
        }
      ]
    },
    {
      "cell_type": "code",
      "source": [],
      "metadata": {
        "id": "Y8GxgBXGWaz3"
      },
      "execution_count": null,
      "outputs": []
    }
  ],
  "metadata": {
    "colab": {
      "provenance": [],
      "gpuType": "T4",
      "include_colab_link": true
    },
    "kernelspec": {
      "display_name": "Python 3",
      "name": "python3"
    },
    "language_info": {
      "codemirror_mode": {
        "name": "ipython",
        "version": 3
      },
      "file_extension": ".py",
      "mimetype": "text/x-python",
      "name": "python",
      "nbconvert_exporter": "python",
      "pygments_lexer": "ipython3",
      "version": "3.13.2"
    },
    "accelerator": "GPU"
  },
  "nbformat": 4,
  "nbformat_minor": 0
}